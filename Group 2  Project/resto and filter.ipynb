{
 "cells": [
  {
   "cell_type": "code",
   "execution_count": 3,
   "id": "128ca1b8-2d54-4bc5-ace8-79387ab23236",
   "metadata": {},
   "outputs": [],
   "source": [
    "from selenium import webdriver\n",
    "import time\n",
    "import pandas as pd\n",
    "from selenium.webdriver.common.by import By\n",
    "from selenium.webdriver import ActionChains\n",
    "from selenium.webdriver.common.actions.wheel_input import ScrollOrigin"
   ]
  },
  {
   "cell_type": "code",
   "execution_count": 147,
   "id": "45f6df0b-07cd-4398-bcc2-0aca1a73c894",
   "metadata": {},
   "outputs": [],
   "source": [
    "link = \"https://www.google.com/maps/place/Bud%C5%8D+Club/@14.6462547,121.055647,17z/data=!3m1!4b1!4m6!3m5!1s0x3397b78c57313321:0x6be841bb2e2698f3!8m2!3d14.6462548!4d121.0605179!16s%2Fg%2F11vhzpczzw?entry=ttu\"\n",
    "\n",
    "driver = webdriver.Chrome()\n",
    "driver.get(link)"
   ]
  },
  {
   "cell_type": "code",
   "execution_count": 149,
   "id": "d37a3f85-3e6b-4a2d-8b64-fdcbebc3f549",
   "metadata": {},
   "outputs": [],
   "source": [
    "#restaurant button click\n",
    "button = driver.find_element(By.XPATH, '//*[@id=\"assistive-chips\"]/div/div/div/div[1]/div/div/div/div/div[2]/div[2]/div[1]/button')\n",
    "button.click()"
   ]
  },
  {
   "cell_type": "code",
   "execution_count": 133,
   "id": "1b5491f1-2eb8-49ce-9db4-7ac6a900e397",
   "metadata": {},
   "outputs": [],
   "source": [
    "#Zoom out function so that the search area button works\n",
    "button = driver.find_element(By.XPATH, '//*[@id=\"widget-zoom-out\"]/div')\n",
    "button.click()"
   ]
  },
  {
   "cell_type": "code",
   "execution_count": 137,
   "id": "ebb427dd-ead8-4f22-9051-86ec6976b286",
   "metadata": {},
   "outputs": [],
   "source": [
    "#Search Area button\n",
    "button = driver.find_element(By.XPATH, '//*[@id=\"search-this-area\"]/div/button/span')\n",
    "button.click()"
   ]
  },
  {
   "cell_type": "code",
   "execution_count": 143,
   "id": "6d72c06e-7d7d-425e-bb29-5536b53022a6",
   "metadata": {},
   "outputs": [],
   "source": [
    "#get restaurants with at least 3.5 rating\n",
    "rating = driver.find_element(By.XPATH, '//*[@id=\"assistive-chips\"]/div/div/div/div[1]/div/div/div/div/div[2]/div[2]/div[1]/button/div/span[2]')\n",
    "rating.click()\n",
    "time.sleep(2)\n",
    "rating = driver.find_element(By.XPATH, '//*[@id=\"action-menu\"]/div[5]')\n",
    "rating.click()\n",
    "time.sleep(2)\n",
    "\n",
    "restaurant_classes = driver.find_elements(By.CLASS_NAME, 'hfpxzc')\n",
    "action = ActionChains(driver)\n",
    "scroll_origin = ScrollOrigin.from_element(restaurant_classes[len(restaurant_classes)-1])\n",
    "action.scroll_from_origin(scroll_origin, 0, 2000).perform()\n",
    "\n",
    "restaurant_classes = driver.find_elements(By.CLASS_NAME, 'hfpxzc')\n",
    "restaurants = [restaurant.get_attribute('aria-label') for restaurant in restaurant_classes]\n",
    "# restaurants\n",
    "\n",
    "#number for reviews for later\n",
    "num_reviews_classes = driver.find_elements(By.CLASS_NAME, 'UY7F9')\n",
    "num_reviews = [int(review.text[1:-1].replace(',', '')) for review in num_reviews_classes]\n",
    "\n",
    "#addresses"
   ]
  },
  {
   "cell_type": "code",
   "execution_count": 119,
   "id": "368668ac-e852-4ca2-a0ba-9327efdb320d",
   "metadata": {},
   "outputs": [],
   "source": [
    "#go back to the previous page to then go to other categories\n",
    "button = driver.find_element(By.XPATH, '//*[@id=\"searchbox\"]/div[2]/div/button')\n",
    "button.click()"
   ]
  },
  {
   "cell_type": "code",
   "execution_count": 117,
   "id": "3cfd0509-0c0c-476a-981b-376afb2513e7",
   "metadata": {},
   "outputs": [],
   "source": [
    "#Go to things to do tab\n",
    "button = driver.find_element(By.XPATH, '//*[@id=\"assistive-chips\"]/div/div/div/div[1]/div/div/div/div/div[2]/div[2]/div[3]/button/div/span[2]')\n",
    "button.click()"
   ]
  },
  {
   "cell_type": "code",
   "execution_count": 98,
   "id": "993a89bd-131f-4918-b013-880a40ae5a6e",
   "metadata": {},
   "outputs": [
    {
     "ename": "WebDriverException",
     "evalue": "Message: disconnected: not connected to DevTools\n  (failed to check if window was closed: disconnected: not connected to DevTools)\n  (Session info: chrome=126.0.6478.127)\nStacktrace:\n\tGetHandleVerifier [0x00007FF7B2B7EEA2+31554]\n\t(No symbol) [0x00007FF7B2AF7ED9]\n\t(No symbol) [0x00007FF7B29B872A]\n\t(No symbol) [0x00007FF7B299FA9C]\n\t(No symbol) [0x00007FF7B299F960]\n\t(No symbol) [0x00007FF7B29BAD51]\n\t(No symbol) [0x00007FF7B2A4C079]\n\t(No symbol) [0x00007FF7B2A2CDD3]\n\t(No symbol) [0x00007FF7B29FA33B]\n\t(No symbol) [0x00007FF7B29FAED1]\n\tGetHandleVerifier [0x00007FF7B2E88B1D+3217341]\n\tGetHandleVerifier [0x00007FF7B2ED5AE3+3532675]\n\tGetHandleVerifier [0x00007FF7B2ECB0E0+3489152]\n\tGetHandleVerifier [0x00007FF7B2C2E776+750614]\n\t(No symbol) [0x00007FF7B2B0375F]\n\t(No symbol) [0x00007FF7B2AFEB14]\n\t(No symbol) [0x00007FF7B2AFECA2]\n\t(No symbol) [0x00007FF7B2AEE16F]\n\tBaseThreadInitThunk [0x00007FFA5FD27374+20]\n\tRtlUserThreadStart [0x00007FFA6049CC91+33]\n",
     "output_type": "error",
     "traceback": [
      "\u001b[1;31m---------------------------------------------------------------------------\u001b[0m",
      "\u001b[1;31mWebDriverException\u001b[0m                        Traceback (most recent call last)",
      "Cell \u001b[1;32mIn[98], line 2\u001b[0m\n\u001b[0;32m      1\u001b[0m action \u001b[38;5;241m=\u001b[39m ActionChains(driver)\n\u001b[1;32m----> 2\u001b[0m restaurant_classes \u001b[38;5;241m=\u001b[39m driver\u001b[38;5;241m.\u001b[39mfind_elements(By\u001b[38;5;241m.\u001b[39mCLASS_NAME, \u001b[38;5;124m\"\u001b[39m\u001b[38;5;124mhfpxzc\u001b[39m\u001b[38;5;124m\"\u001b[39m)\n\u001b[0;32m      3\u001b[0m scroll_origin \u001b[38;5;241m=\u001b[39m ScrollOrigin\u001b[38;5;241m.\u001b[39mfrom_element(restaurant_classes[\u001b[38;5;28mlen\u001b[39m(restaurant_classes)\u001b[38;5;241m-\u001b[39m\u001b[38;5;241m1\u001b[39m])\n\u001b[0;32m      5\u001b[0m \u001b[38;5;28;01mfor\u001b[39;00m i \u001b[38;5;129;01min\u001b[39;00m \u001b[38;5;28mrange\u001b[39m(\u001b[38;5;28mlen\u001b[39m(restaurant_classes)):\n",
      "File \u001b[1;32m~\\anaconda3\\Lib\\site-packages\\selenium\\webdriver\\remote\\webdriver.py:778\u001b[0m, in \u001b[0;36mWebDriver.find_elements\u001b[1;34m(self, by, value)\u001b[0m\n\u001b[0;32m    774\u001b[0m     value \u001b[38;5;241m=\u001b[39m \u001b[38;5;124mf\u001b[39m\u001b[38;5;124m'\u001b[39m\u001b[38;5;124m[name=\u001b[39m\u001b[38;5;124m\"\u001b[39m\u001b[38;5;132;01m{\u001b[39;00mvalue\u001b[38;5;132;01m}\u001b[39;00m\u001b[38;5;124m\"\u001b[39m\u001b[38;5;124m]\u001b[39m\u001b[38;5;124m'\u001b[39m\n\u001b[0;32m    776\u001b[0m \u001b[38;5;66;03m# Return empty list if driver returns null\u001b[39;00m\n\u001b[0;32m    777\u001b[0m \u001b[38;5;66;03m# See https://github.com/SeleniumHQ/selenium/issues/4555\u001b[39;00m\n\u001b[1;32m--> 778\u001b[0m \u001b[38;5;28;01mreturn\u001b[39;00m \u001b[38;5;28mself\u001b[39m\u001b[38;5;241m.\u001b[39mexecute(Command\u001b[38;5;241m.\u001b[39mFIND_ELEMENTS, {\u001b[38;5;124m\"\u001b[39m\u001b[38;5;124musing\u001b[39m\u001b[38;5;124m\"\u001b[39m: by, \u001b[38;5;124m\"\u001b[39m\u001b[38;5;124mvalue\u001b[39m\u001b[38;5;124m\"\u001b[39m: value})[\u001b[38;5;124m\"\u001b[39m\u001b[38;5;124mvalue\u001b[39m\u001b[38;5;124m\"\u001b[39m] \u001b[38;5;129;01mor\u001b[39;00m []\n",
      "File \u001b[1;32m~\\anaconda3\\Lib\\site-packages\\selenium\\webdriver\\remote\\webdriver.py:354\u001b[0m, in \u001b[0;36mWebDriver.execute\u001b[1;34m(self, driver_command, params)\u001b[0m\n\u001b[0;32m    352\u001b[0m response \u001b[38;5;241m=\u001b[39m \u001b[38;5;28mself\u001b[39m\u001b[38;5;241m.\u001b[39mcommand_executor\u001b[38;5;241m.\u001b[39mexecute(driver_command, params)\n\u001b[0;32m    353\u001b[0m \u001b[38;5;28;01mif\u001b[39;00m response:\n\u001b[1;32m--> 354\u001b[0m     \u001b[38;5;28mself\u001b[39m\u001b[38;5;241m.\u001b[39merror_handler\u001b[38;5;241m.\u001b[39mcheck_response(response)\n\u001b[0;32m    355\u001b[0m     response[\u001b[38;5;124m\"\u001b[39m\u001b[38;5;124mvalue\u001b[39m\u001b[38;5;124m\"\u001b[39m] \u001b[38;5;241m=\u001b[39m \u001b[38;5;28mself\u001b[39m\u001b[38;5;241m.\u001b[39m_unwrap_value(response\u001b[38;5;241m.\u001b[39mget(\u001b[38;5;124m\"\u001b[39m\u001b[38;5;124mvalue\u001b[39m\u001b[38;5;124m\"\u001b[39m, \u001b[38;5;28;01mNone\u001b[39;00m))\n\u001b[0;32m    356\u001b[0m     \u001b[38;5;28;01mreturn\u001b[39;00m response\n",
      "File \u001b[1;32m~\\anaconda3\\Lib\\site-packages\\selenium\\webdriver\\remote\\errorhandler.py:229\u001b[0m, in \u001b[0;36mErrorHandler.check_response\u001b[1;34m(self, response)\u001b[0m\n\u001b[0;32m    227\u001b[0m         alert_text \u001b[38;5;241m=\u001b[39m value[\u001b[38;5;124m\"\u001b[39m\u001b[38;5;124malert\u001b[39m\u001b[38;5;124m\"\u001b[39m]\u001b[38;5;241m.\u001b[39mget(\u001b[38;5;124m\"\u001b[39m\u001b[38;5;124mtext\u001b[39m\u001b[38;5;124m\"\u001b[39m)\n\u001b[0;32m    228\u001b[0m     \u001b[38;5;28;01mraise\u001b[39;00m exception_class(message, screen, stacktrace, alert_text)  \u001b[38;5;66;03m# type: ignore[call-arg]  # mypy is not smart enough here\u001b[39;00m\n\u001b[1;32m--> 229\u001b[0m \u001b[38;5;28;01mraise\u001b[39;00m exception_class(message, screen, stacktrace)\n",
      "\u001b[1;31mWebDriverException\u001b[0m: Message: disconnected: not connected to DevTools\n  (failed to check if window was closed: disconnected: not connected to DevTools)\n  (Session info: chrome=126.0.6478.127)\nStacktrace:\n\tGetHandleVerifier [0x00007FF7B2B7EEA2+31554]\n\t(No symbol) [0x00007FF7B2AF7ED9]\n\t(No symbol) [0x00007FF7B29B872A]\n\t(No symbol) [0x00007FF7B299FA9C]\n\t(No symbol) [0x00007FF7B299F960]\n\t(No symbol) [0x00007FF7B29BAD51]\n\t(No symbol) [0x00007FF7B2A4C079]\n\t(No symbol) [0x00007FF7B2A2CDD3]\n\t(No symbol) [0x00007FF7B29FA33B]\n\t(No symbol) [0x00007FF7B29FAED1]\n\tGetHandleVerifier [0x00007FF7B2E88B1D+3217341]\n\tGetHandleVerifier [0x00007FF7B2ED5AE3+3532675]\n\tGetHandleVerifier [0x00007FF7B2ECB0E0+3489152]\n\tGetHandleVerifier [0x00007FF7B2C2E776+750614]\n\t(No symbol) [0x00007FF7B2B0375F]\n\t(No symbol) [0x00007FF7B2AFEB14]\n\t(No symbol) [0x00007FF7B2AFECA2]\n\t(No symbol) [0x00007FF7B2AEE16F]\n\tBaseThreadInitThunk [0x00007FFA5FD27374+20]\n\tRtlUserThreadStart [0x00007FFA6049CC91+33]\n"
     ]
    }
   ],
   "source": [
    "action = ActionChains(driver)\n",
    "restaurant_classes = driver.find_elements(By.CLASS_NAME, \"hfpxzc\")\n",
    "\n",
    "for i in range(len(restaurant_classes)):\n",
    "    scroll_origin = ScrollOrigin.from_element(restaurant_classes[i])\n",
    "    action.scroll_from_origin(scroll_origin, 0, 100).perform()\n",
    "    action.move_to_element(restaurant_classes[i]).perform()\n",
    "    restaurant_classes[i].click()\n",
    "    time.sleep(2)\n",
    "        # source = browser.page_source\n",
    "        # soup = BeautifulSoup(source, 'html.parser')\n",
    "        # try:\n",
    "        #     Name_Html = soup.findAll('h1', {\"class\": \"DUwDvf fontHeadlineLarge\"})\n",
    "\n",
    "        #     name = Name_Html[0].text\n",
    "        #     if name not in e:\n",
    "        #         e.append(name)\n",
    "        #         divs = soup.findAll('div', {\"class\": \"Io6YTe fontBodyMedium\"})\n",
    "        #         for j in range(len(divs)):\n",
    "        #             if str(divs[j].text)[0] == \"+\":\n",
    "        #                 phone = divs[j].text\n",
    "\n",
    "        #         Address_Html= divs[0]\n",
    "        #         address=Address_Html.text\n",
    "        #         try:\n",
    "        #             for z in range(len(divs)):\n",
    "        #                 if str(divs[z].text)[-4] == \".\" or str(divs[z].text)[-3] == \".\":\n",
    "        #                     website = divs[z].text"
   ]
  },
  {
   "cell_type": "code",
   "execution_count": 145,
   "id": "8cd80576-2e54-4782-ac47-662563001cf3",
   "metadata": {},
   "outputs": [],
   "source": [
    "action = ActionChains(driver)\n",
    "restaurant_classes = driver.find_elements(By.CLASS_NAME, \"hfpxzc\")\n",
    "for i in range(len(restaurant_classes)):\n",
    "    scroll_origin = ScrollOrigin.from_element(restaurant_classes[i])\n",
    "    action.scroll_from_origin(scroll_origin, 0, 100).perform()\n",
    "    action.move_to_element(restaurant_classes[i]).perform()\n",
    "    restaurant_classes[i].click()\n",
    "    time.sleep(2)\n",
    "    source = driver.page_source"
   ]
  },
  {
   "cell_type": "code",
   "execution_count": 167,
   "id": "71ab52a4-ce31-4ea4-893e-8071447a14da",
   "metadata": {},
   "outputs": [
    {
     "data": {
      "text/plain": [
       "'Fariñas Ilocos Empanada'"
      ]
     },
     "execution_count": 167,
     "metadata": {},
     "output_type": "execute_result"
    }
   ],
   "source": [
    "parent_element = driver.find_element(By.CSS_SELECTOR, '.a5H0ec').find_element(By.XPATH, './..').text\n",
    "parent_element"
   ]
  }
 ],
 "metadata": {
  "kernelspec": {
   "display_name": "Python 3 (ipykernel)",
   "language": "python",
   "name": "python3"
  },
  "language_info": {
   "codemirror_mode": {
    "name": "ipython",
    "version": 3
   },
   "file_extension": ".py",
   "mimetype": "text/x-python",
   "name": "python",
   "nbconvert_exporter": "python",
   "pygments_lexer": "ipython3",
   "version": "3.11.7"
  }
 },
 "nbformat": 4,
 "nbformat_minor": 5
}
