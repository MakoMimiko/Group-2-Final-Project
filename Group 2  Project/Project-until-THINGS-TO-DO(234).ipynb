{
 "cells": [
  {
   "cell_type": "code",
   "execution_count": 176,
   "id": "6df727a1-7daf-41a1-b94f-955106c284b3",
   "metadata": {},
   "outputs": [],
   "source": [
    "from selenium import webdriver\n",
    "import time\n",
    "import pandas as pd\n",
    "from selenium.webdriver.common.by import By\n",
    "from selenium.webdriver import ActionChains\n",
    "from selenium.webdriver.common.actions.wheel_input import ScrollOrigin\n",
    "from selenium.webdriver.support.ui import WebDriverWait\n",
    "from selenium.webdriver.support import expected_conditions as EC"
   ]
  },
  {
   "cell_type": "code",
   "execution_count": 178,
   "id": "375eb4f9-7665-400c-8cb6-fa26ce610371",
   "metadata": {},
   "outputs": [
    {
     "name": "stdin",
     "output_type": "stream",
     "text": [
      "Enter the location to search on Google Maps:  Taft\n"
     ]
    }
   ],
   "source": [
    "user_input = input(\"Enter the location to search on Google Maps: \")"
   ]
  },
  {
   "cell_type": "code",
   "execution_count": 200,
   "id": "e4e08e05-7c4d-4905-a7f2-827ab61ce8cf",
   "metadata": {
    "scrolled": true
   },
   "outputs": [
    {
     "name": "stdout",
     "output_type": "stream",
     "text": [
      "{'Kanto Freestyle Breakfast La Salle': {'Rating': '4.4', 'Address': 'Kanto Freestyle Breakfast La Salle\\n4.4(636)\\nBreakfast · \\uf54a · 2466 Leon Guinto St\\nOpen 24 hours', 'Closing Time': '4.4(636)'}, 'Tinuhog Ni Benny Barbecue House': {'Rating': '4.4', 'Address': 'Tinuhog Ni Benny Barbecue House\\n4.4(182)\\nBarbecue · 879 Dagonoy St\\nOpen ⋅ Closes 2:30\\u202fAM', 'Closing Time': '4.4(182)'}, 'Tapa King Taft Avenue': {'Rating': '3.9', 'Address': 'Tapa King Taft Avenue\\n3.9(132) · ₱₱\\nFilipino · 1st Flr., Commercial Unit No. 5, One Archers Place, Taft Ave\\nOpen 24 hours', 'Closing Time': '3.9(132) · ₱₱'}, 'Cafe Adriatico': {'Rating': '4.5', 'Address': 'Cafe Adriatico\\n4.5(1,209) · ₱₱\\nRestaurant · 1790 Adriatico St\\nOpen ⋅ Closes 12\\u202fAM', 'Closing Time': '4.5(1,209) · ₱₱'}, 'Ababu': {'Rating': '3.9', 'Address': 'Ababu\\n3.9(159)\\nMiddle Eastern · 931 Estrada St\\nCloses soon ⋅ 11:30\\u202fPM ⋅ Opens 10\\u202fAM Tue', 'Closing Time': '3.9(159)'}, 'Miss Wa Noodles and Rice': {'Rating': '3.8', 'Address': 'Miss Wa Noodles and Rice\\n3.8(11)\\nAsian · 2264 Taft Ave\\nOpen 24 hours', 'Closing Time': '3.8(11)'}, 'SHAWARMA ROLLS - Taft Avenue': {'Rating': '4.8', 'Address': 'SHAWARMA ROLLS - Taft Avenue\\n4.8(74)\\nMiddle Eastern · Taft Ave\\nOpen ⋅ Closes 1\\u202fAM', 'Closing Time': '4.8(74)'}, 'Army Navy Burger + Burrito': {'Rating': '4.1', 'Address': 'Army Navy Burger + Burrito\\n4.1(151) · ₱₱\\nBurritos · \\ue934 · Burgundy Transpacific Place, Unit G-6, No. 2456 Taft Ave\\nOpen 24 hours', 'Closing Time': '4.1(151) · ₱₱'}, 'Al Makkah Restaurant & Cafe': {'Rating': '4.2', 'Address': 'Al Makkah Restaurant & Cafe\\n4.2(73)\\nRestaurant · Sherwood Place, Corner De La Salle University (Brother Andrew Hall), 2264, 1004 Taft Ave\\nOpen ⋅ Closes 12\\u202fAM', 'Closing Time': '4.2(73)'}, 'Chowking': {'Rating': '3.1', 'Address': \"Chowking\\n3.1(91) · ₱\\nFast Food · \\ue934 · Level 1, D'Student's Place, Commercial Center, 2488 Taft Ave\\nQuick stop for familiar Chinese fare\\nOpen 24 hours\", 'Closing Time': '3.1(91) · ₱'}, 'BOK Korean Fried Chicken - Taft': {'Rating': '4.3', 'Address': 'BOK Korean Fried Chicken - Taft\\n4.3(36)\\nKorean · 877 Dagonoy St\\nOpen ⋅ Closes 3\\u202fAM', 'Closing Time': '4.3(36)'}, 'Bamboo Giant Garden Restaurant & Bar Malate': {'Rating': '4.3', 'Address': 'Bamboo Giant Garden Restaurant & Bar Malate\\n4.3(130) · ₱₱\\nRestaurant · \\uf54a · No. 824-A San Andres St., Corner Taft Ave. and, Pres. Quirino Ave., Malate, Manila\\nOpen ⋅ Closes 2\\u202fAM', 'Closing Time': '4.3(130) · ₱₱'}, 'Thai Mango - Malate': {'Rating': '3.6', 'Address': 'Thai Mango - Malate\\n3.6(81)\\nThai · 2463 Leon Guinto Manila Malate\\nOpen 24 hours', 'Closing Time': '3.6(81)'}, 'Sinangag Express': {'Rating': '4.1', 'Address': 'Sinangag Express\\n4.1(31)\\nRestaurant · 879 Dagonoy St\\nOpen 24 hours', 'Closing Time': '4.1(31)'}, 'Pho Mahal Restaurant': {'Rating': '4.5', 'Address': 'Pho Mahal Restaurant\\n4.5(84)\\nRestaurant · 866 P.Ocampo St.\\nOpen ⋅ Closes 12\\u202fAM', 'Closing Time': '4.5(84)'}, 'The Aristocrat Restaurant': {'Rating': '4.3', 'Address': 'The Aristocrat Restaurant\\n4.3(4,395) · ₱₱\\nFilipino · \\ue934 · 432, 1004 San Andres St\\nOpen 24 hours', 'Closing Time': '4.3(4,395) · ₱₱'}, 'Shawarma Sham': {'Rating': '3.9', 'Address': 'Shawarma Sham\\n3.9(28)\\nRestaurant · Shawarma Sham, 2264 Sherwood Place, Taft Ave\\nOpen 24 hours', 'Closing Time': '3.9(28)'}, 'Arabic house': {'Rating': '4.9', 'Address': 'Arabic house\\n4.9(538) · ₱\\nRestaurant · 912 P.Ocampo St.\\nCloses soon ⋅ 11:45\\u202fPM ⋅ Opens 11\\u202fAM Tue', 'Closing Time': '4.9(538) · ₱'}, 'Eat Fresh Leon Guinto': {'Rating': '3.5', 'Address': 'Eat Fresh Leon Guinto\\n3.5(10)\\nChinese Takeout · Providence Tower, 2471 Leon Guinto St\\nCloses soon ⋅ 11\\u202fPM ⋅ Opens 9\\u202fAM Tue', 'Closing Time': '3.5(10)'}, 'Burger King': {'Rating': '4.3', 'Address': 'Burger King\\n4.3(358) · ₱₱\\nRestaurant · \\ue934 · 1017 Taft Ave\\nOpen ⋅ Closes 12\\u202fAM', 'Closing Time': '4.3(358) · ₱₱'}, 'Tapa Supreme': {'Rating': '4.2', 'Address': 'Tapa Supreme\\n4.2(360) · ₱\\nRestaurant · HXFV+4MW, San Andres St\\nOpen ⋅ Closes 4\\u202fAM', 'Closing Time': '4.2(360) · ₱'}, 'Kenny Rogers Roasters': {'Rating': '4.2', 'Address': 'Kenny Rogers Roasters\\n4.2(294) · ₱₱\\nChicken · \\ue934 · 2576 Taft Ave\\nClosed ⋅ Opens 8\\u202fAM Tue', 'Closing Time': '4.2(294) · ₱₱'}, 'Angrydobo': {'Rating': '3.7', 'Address': 'Angrydobo\\n3.7(352)\\nFilipino · 2456, 1004 Taft Ave\\nClosed ⋅ Opens 10\\u202fAM Tue', 'Closing Time': '3.7(352)'}, 'Paluto Sizzling Nga Po': {'Rating': '2.3', 'Address': 'Paluto Sizzling Nga Po\\n2.3(16)\\nAsian · 2472 Leon Guinto St\\nOpen ⋅ Closes 2\\u202fAM', 'Closing Time': '2.3(16)'}, 'Jollibee Taft Quirino': {'Rating': '4.0', 'Address': 'Jollibee Taft Quirino\\n4.0(440) · ₱\\nFast Food · \\ue934 · HXCR+2QQ, San Andres Corner, Taft Ave\\nWell-known Philippines fast-food chain\\nOpen 24 hours', 'Closing Time': '4.0(440) · ₱'}, 'El Poco Cantina': {'Rating': '4.7', 'Address': 'El Poco Cantina\\n4.7(583) · ₱₱\\nMexican · 945 Estrada St\\nClosed ⋅ Opens 10\\u202fAM Tue', 'Closing Time': '4.7(583) · ₱₱'}, \"McDonald's Taft\": {'Rating': '4.2', 'Address': \"McDonald's Taft\\n4.2(937) · ₱\\nFast Food · \\ue934 · 2399 Taft Ave\\nIconic fast-food burger & fries chain\\nOpen 24 hours\", 'Closing Time': '4.2(937) · ₱'}, 'Samgyupsalamat UPAD Taft': {'Rating': '4.2', 'Address': 'Samgyupsalamat UPAD Taft\\n4.2(803) · ₱₱\\nKorean BBQ · \\uf54a · 912 P.Ocampo St.\\nCloses soon ⋅ 11\\u202fPM ⋅ Opens 11\\u202fAM Tue', 'Closing Time': '4.2(803) · ₱₱'}, 'Chomp Chomp': {'Rating': '4.3', 'Address': 'Chomp Chomp\\n4.3(218) · ₱\\nAsian · \\uf54a · 2nd Floor, Bellago Residence, 2450 Leon Guinto St\\nClosed ⋅ Opens 10\\u202fAM Tue', 'Closing Time': '4.3(218) · ₱'}, 'The Old Bamboo Malate': {'Rating': '5.0', 'Address': 'The Old Bamboo Malate\\n5.0(7)\\nRestaurant · 820 San Andres St\\nOpen ⋅ Closes 1\\u202fAM', 'Closing Time': '5.0(7)'}, 'Lami Restaurant': {'Rating': '5.0', 'Address': 'Lami Restaurant\\n5.0(1)\\nRestaurant · HX8V+2XH', 'Closing Time': '5.0(1)'}, 'Green House (GEJ Eatery)': {'Rating': '4.6', 'Address': 'Green House (GEJ Eatery)\\n4.6(28)\\nRestaurant · 629 Remedios St, Cor Maria Orosa St\\nOpen ⋅ Closes 4\\u202fAM', 'Closing Time': '4.6(28)'}, 'Quisina Grille & Restaurant Co': {'Rating': '5.0', 'Address': 'Quisina Grille & Restaurant Co\\n5.0(1)\\nRestaurant · 1030 P Ocampo SR St Singalong, Malate Manila\\nClosed ⋅ Opens 10\\u202fAM Tue', 'Closing Time': '5.0(1)'}, \"Zark's Burgers\": {'Rating': '4.2', 'Address': \"Zark's Burgers\\n4.2(587) · ₱₱\\nHamburger · 2464 Taft Ave\\nClosed ⋅ Opens 10\\u202fAM Tue\", 'Closing Time': '4.2(587) · ₱₱'}, 'Lucky Restaurant': {'Rating': '5.0', 'Address': 'Lucky Restaurant\\n5.0(1)\\nRestaurant · 2507 University Mall Bldg Taft Ave, Bgy 709, Zone 078 Malate, Manila\\nClosed ⋅ Opens 10\\u202fAM Tue', 'Closing Time': '5.0(1)'}, 'Persia Wrap': {'Rating': '4.9', 'Address': 'Persia Wrap\\n4.9(59)\\nPersian · Sherwood 5th district\\nClosed ⋅ Opens 9\\u202fAM Tue', 'Closing Time': '4.9(59)'}, 'Analiza Restaurant': {'Rating': '4.0', 'Address': 'Analiza Restaurant\\n4.0(1)\\nRestaurant · 914 P.Ocampo St.', 'Closing Time': '4.0(1)'}, 'Crazy Katsu': {'Rating': '4.1', 'Address': 'Crazy Katsu\\n4.1(25)\\nJapanese · \\uf54a · One Archers Place, Taft Ave\\nClosed ⋅ Opens 11\\u202fAM Tue', 'Closing Time': '4.1(25)'}, 'KFC': {'Rating': '3.6', 'Address': 'KFC\\n3.6(344) · ₱\\nFast Food · \\ue934 · University Mall, 2507 Taft Ave\\nFried chicken restaurant chain\\nOpen 24 hours', 'Closing Time': '3.6(344) · ₱'}, 'Donna Restaurant': {'Rating': '5.0', 'Address': 'Donna Restaurant\\n5.0(1)\\nRestaurant · 2600 Taft Ave Cor V Cruz, Malate, Manila', 'Closing Time': '5.0(1)'}, '24 Chicken EGI Taft Tower': {'Rating': '4.7', 'Address': '24 Chicken EGI Taft Tower\\n4.7(71) · ₱₱\\nChicken · EGI TAFT TOWER, 2339 Taft Ave\\nClosed ⋅ Opens 10\\u202fAM Tue', 'Closing Time': '4.7(71) · ₱₱'}, 'Street Kitchen restobar': {'Rating': '4.7', 'Address': 'Street Kitchen restobar\\n4.7(3)\\nRestaurant · 1923 Angel Linao St\\nOpen ⋅ Closes 1\\u202fAM', 'Closing Time': '4.7(3)'}, 'Piccolino Restaurant': {'Rating': '4.1', 'Address': 'Piccolino Restaurant\\n4.1(7)\\nRestaurant · One Archers Place, Castro Street, Taft Ave\\nClosed ⋅ Opens 9:30\\u202fAM Tue', 'Closing Time': '4.1(7)'}, \"Max's Restaurant\": {'Rating': '4.3', 'Address': \"Max's Restaurant\\n4.3(459) · ₱₱\\nChicken · \\ue934 · CCP Complex, Lot 1 Unit 1 Block 3A Harbour Square\\nChain eatery for Filipino fried chicken\\nClosed ⋅ Opens 9\\u202fAM Tue\", 'Closing Time': '4.3(459) · ₱₱'}, 'Jakarta Inn Piano Bar and Restaurant': {'Rating': '4.8', 'Address': 'Jakarta Inn Piano Bar and Restaurant\\n4.8(11)\\nHalal · 2082 F. Benitez Street, corner San Andres Street, Malate\\nOpen ⋅ Closes 11:59\\u202fPM', 'Closing Time': '4.8(11)'}, 'Freska Ilonggo Seafood & Inasal - Manila': {'Rating': '4.9', 'Address': 'Freska Ilonggo Seafood & Inasal - Manila\\n4.9(32)\\nFilipino · 2nd Level, University Mall, Taft Avenue, Malate\\nClosed ⋅ Opens 10\\u202fAM Tue', 'Closing Time': '4.9(32)'}, 'Jollibee': {'Rating': '3.7', 'Address': 'Jollibee\\n3.7(192) · ₱\\nFast Food · \\ue934 · 2284 Taft Ave\\nWell-known Philippines fast-food chain', 'Closing Time': '3.7(192) · ₱'}, 'BonChon': {'Rating': '3.3', 'Address': 'BonChon\\n3.3(77) · ₱₱\\nFast Food · University Mall, 2057 Taft Ave\\nKorean fried chicken specialist\\nClosed ⋅ Opens 10\\u202fAM Tue', 'Closing Time': '3.3(77) · ₱₱'}, \"Jus & Jerry's EGI Taft\": {'Rating': '4.1', 'Address': \"Jus & Jerry's EGI Taft\\n4.1(66)\\nFast Food · EGI TAFT TOWER, Unit 112 G/F, 2339 Taft Ave\\nClosed ⋅ Opens 10:30\\u202fAM Tue\", 'Closing Time': '4.1(66)'}, 'Alo Nhậu': {'Rating': '3.6', 'Address': 'Alo Nhậu\\n3.6(10)\\nRestaurant · 2223, 1004 Fidel A.Reyes\\nOpen 24 hours', 'Closing Time': '3.6(10)'}, 'Illo Japanese Restaurant': {'Rating': '4.0', 'Address': 'Illo Japanese Restaurant\\n4.0(2)\\nJapanese · 2nd Floor, One Archers Place, Taft Ave', 'Closing Time': '4.0(2)'}, \"McDonald's Quirino\": {'Rating': '4.0', 'Address': \"McDonald's Quirino\\n4.0(467) · ₱\\nFast Food · \\ue934 · Ruby Ann Building, San Andres St\\nIconic fast-food burger & fries chain\\nOpen 24 hours\", 'Closing Time': '4.0(467) · ₱'}, \"Noree's Eatery\": {'Rating': '4.0', 'Address': \"Noree's Eatery\\n4.0(1)\\nRestaurant · 2251-C Leveriza St, Bgy 721, Zone 078 Malate Manila\", 'Closing Time': '4.0(1)'}, \"Noel's BBQ\": {'Rating': '4.3', 'Address': \"Noel's BBQ\\n4.3(37)\\nBarbecue · 2198 Fidel A.Reyes\\nClosed ⋅ Opens 9\\u202fAM Tue\", 'Closing Time': '4.3(37)'}, 'Pepper Lunch': {'Rating': '4.5', 'Address': 'Pepper Lunch\\n4.5(12) · ₱₱\\nJapanese · R Square Mall, Taft Ave. cor. Pablo Ocampo St 5F-6F 5F, Malate, Manila, 1004, Malate, Manila\\nClosed ⋅ Opens 11\\u202fAM Tue', 'Closing Time': '4.5(12) · ₱₱'}, 'Sarang Mart and Restaurant': {'Rating': '4.3', 'Address': 'Sarang Mart and Restaurant\\n4.3(102) · ₱₱\\nKorean · \\uf54a · Mervin Terraces, 2nd floor bldg P., 980 P.Ocampo St.\\nClosed ⋅ Opens 6\\u202fAM Tue', 'Closing Time': '4.3(102) · ₱₱'}, 'Ciboney Cafe, Bar & Restaurant': {'Rating': '5.0', 'Address': 'Ciboney Cafe, Bar & Restaurant\\n5.0(1)\\nRestaurant · 602 Remedios Circle, Malate 1004\\nCloses soon ⋅ 11\\u202fPM ⋅ Opens 10:30\\u202fAM Tue', 'Closing Time': '5.0(1)'}, 'Yoshimeatsu Taft': {'Rating': '4.4', 'Address': 'Yoshimeatsu Taft\\n4.4(323)\\nYakiniku · 1021 Pablo Ocampo Street, cor Arellano Ave\\nClosed ⋅ Opens 11\\u202fAM Tue', 'Closing Time': '4.4(323)'}, 'Davids Tea House - Classic (Vito Cruz)': {'Rating': '4.1', 'Address': 'Davids Tea House - Classic (Vito Cruz)\\n4.1(17)\\nRestaurant · \\uf54a · Taft Ave Unit C, 204-C 205 R Square Residence Mall, Pablo, P.Ocampo St.\\nClosed ⋅ Opens 10\\u202fAM Tue', 'Closing Time': '4.1(17)'}, \"Aling Nene's Restaurant\": {'Rating': '4.3', 'Address': \"Aling Nene's Restaurant\\n4.3(65)\\nFilipino · 1300 Ocampo St, corner Osmeña Hwy\\nClosed ⋅ Opens 7\\u202fAM Tue\", 'Closing Time': '4.3(65)'}, 'Century Seafood Restaurant Manila': {'Rating': '4.4', 'Address': 'Century Seafood Restaurant Manila\\n4.4(51)\\nRestaurant · Ground Floor of, Century Park Hotel, 599 P.Ocampo St.', 'Closing Time': '4.4(51)'}, 'Umimatsu Japanese Restaurant': {'Rating': '4.2', 'Address': 'Umimatsu Japanese Restaurant\\n4.2(111)\\nRestaurant · 1st Floor, Chungdam Building, 560 Remedios St\\nOpen ⋅ Closes 6\\u202fAM Tue', 'Closing Time': '4.2(111)'}, '121 Restaurant (Salcedo Village, Makati City)': {'Rating': '4.4', 'Address': '121 Restaurant (Salcedo Village, Makati City)\\n4.4(169) · ₱₱\\nRestaurant · \\ue934 · 121 L.P. Leviste Corner Villar Streets, L.P. Leviste Street\\nOpen ⋅ Closes 12\\u202fAM', 'Closing Time': '4.4(169) · ₱₱'}, \"Barbara's Heritage Restaurant\": {'Rating': '4.4', 'Address': \"Barbara's Heritage Restaurant\\n4.4(1,322)\\nRestaurant · \\ue934 · Plaza San Luis Complex, General Luna St\\nClosed ⋅ Opens 9\\u202fAM Tue\", 'Closing Time': '4.4(1,322)'}, 'Umperree Canteen & Restaurant': {'Rating': '1.0', 'Address': 'Umperree Canteen & Restaurant\\n1.0(1)\\nRestaurant · G-9 Burgandy Transpacific Place 2444-A Taft Ave, Bgy 727, Zone 079 Malate, Manila\\nClosed ⋅ Opens 10\\u202fAM Tue', 'Closing Time': '1.0(1)'}, 'Kanzen Sushi Roll R Square Mall Taft Ave.': {'Rating': '4.7', 'Address': 'Kanzen Sushi Roll R Square Mall Taft Ave.\\n4.7(3)\\nSushi takeaway · 2F Food Alley, R Square Manila, 1004 Taft Ave', 'Closing Time': '4.7(3)'}, 'Corndog 28 - Taft': {'Rating': '4.9', 'Address': 'Corndog 28 - Taft\\n4.9(21)\\nKorean · Stall #2 East Phase 3 LRT Vito Cruz Station, Taft Ave\\nClosed ⋅ Opens 10\\u202fAM Tue', 'Closing Time': '4.9(21)'}, 'Royal Korean Restaurant 로얄 한국 식당 - Korea Town Manila': {'Rating': '4.5', 'Address': 'Royal Korean Restaurant 로얄 한국 식당 - Korea Town Manila\\n4.5(223) · ₱₱\\nRestaurant · Luis Maria, Guerrero St\\nOpen ⋅ Closes 2\\u202fAM', 'Closing Time': '4.5(223) · ₱₱'}, 'Zhu Ba Jie - Malate, Manila (Korean Pork Stew Restaurant)': {'Rating': '4.6', 'Address': 'Zhu Ba Jie - Malate, Manila (Korean Pork Stew Restaurant)\\n4.6(41)\\nKorean · 1799 Adriatico St\\nOpen ⋅ Closes 6\\u202fAM Tue', 'Closing Time': '4.6(41)'}, \"David's Tea House - Hotpot Restaurant (Malate, Manila)\": {'Rating': '4.2', 'Address': \"David's Tea House - Hotpot Restaurant (Malate, Manila)\\n4.2(144) · ₱₱\\nRestaurant · \\ue934 · Unit D. Ground Floor, Malate Bayview mansion, 1781 Adriatico St\\nOpen ⋅ Closes 3\\u202fAM\", 'Closing Time': '4.2(144) · ₱₱'}, 'Jollibee Vito Cruz': {'Rating': '4.1', 'Address': 'Jollibee Vito Cruz\\n4.1(1,017) · ₱\\nFast Food · \\ue934 · 855 Taft Avenue, cor P.Ocampo St.\\nWell-known Philippines fast-food chain\\nClosed ⋅ Opens 9\\u202fAM Tue', 'Closing Time': '4.1(1,017) · ₱'}, 'New Spice Bar and Restaurant': {'Rating': '4.0', 'Address': 'New Spice Bar and Restaurant\\n4.0(1)\\nRestaurant · 512 San Andres St, Bgy 701, Zone 077 Malate, Manila', 'Closing Time': '4.0(1)'}, 'Cocoys Restaurant & Mongolian Barbeque': {'Rating': '5.0', 'Address': 'Cocoys Restaurant & Mongolian Barbeque\\n5.0(1)\\nRestaurant · HXCR+3RC\\nClosed ⋅ Opens 10\\u202fAM Tue', 'Closing Time': '5.0(1)'}, 'HEALTHY SAND VITOCRUZ': {'Rating': '5.0', 'Address': 'HEALTHY SAND VITOCRUZ\\n5.0(141)\\nSandwich · \\ue934 · 2/F R Square Mall P.ocampo st, Corner Taft Ave\\nClosed ⋅ Opens 10:30\\u202fAM Tue', 'Closing Time': '5.0(141)'}, 'The Aristocrat Restaurant - Robinsons Place Manila': {'Rating': '4.6', 'Address': 'The Aristocrat Restaurant - Robinsons Place Manila\\n4.6(1,193) · ₱₱\\nFilipino · \\ue934 · Pedro Gil St\\nClosed ⋅ Opens 10\\u202fAM Tue', 'Closing Time': '4.6(1,193) · ₱₱'}, 'Tang korean restaurant malate': {'Rating': '4.1', 'Address': 'Tang korean restaurant malate\\n4.1(14)\\nKorean · 1903 M. Adriatico st, Corner Remedios St\\nOpen 24 hours', 'Closing Time': '4.1(14)'}, 'BAB Korean Restaurant - EGI Taft': {'Rating': '4.0', 'Address': 'BAB Korean Restaurant - EGI Taft\\n4.0(2)\\nKorean · Unit 105, EGI TAFT TOWER, Taft Ave\\nClosed ⋅ Opens 9\\u202fAM Tue', 'Closing Time': '4.0(2)'}, 'Chimmy EGI Taft Tower': {'Rating': '5.0', 'Address': 'Chimmy EGI Taft Tower\\n5.0(1)\\nRestaurant · Taft Ave\\nClosed ⋅ Opens 10\\u202fAM Tue', 'Closing Time': '5.0(1)'}, \"Manu's Restaurant\": {'Rating': '4.4', 'Address': \"Manu's Restaurant\\n4.4(17)\\nFamily-friendly · 3674 Bautista St\", 'Closing Time': '4.4(17)'}, \"McDonald's Quirino Mabini\": {'Rating': '4.0', 'Address': \"McDonald's Quirino Mabini\\n4.0(231) · ₱\\nFast Food · \\ue934 · 1004 Meding\\nIconic fast-food burger & fries chain\\nOpen 24 hours\", 'Closing Time': '4.0(231) · ₱'}, 'Solana Restaurant Concept Inc': {'Rating': '5.0', 'Address': 'Solana Restaurant Concept Inc\\n5.0(1)\\nRestaurant · Baysite Roxas Blvd, Bgy 699, Zone 076 Malate Manila\\nClosed ⋅ Opens 11\\u202fAM Tue', 'Closing Time': '5.0(1)'}, 'Aling Nene’s Barbeque Restaurant': {'Rating': '4.7', 'Address': 'Aling Nene’s Barbeque Restaurant\\n4.7(3)\\nGrill · HXFV+5J3, Singalong Street, Corner President Quirino Avenue\\nClosed ⋅ Opens 10\\u202fAM Tue', 'Closing Time': '4.7(3)'}, \"Five C' Tapsilugan\": {'Rating': '5.0', 'Address': \"Five C' Tapsilugan\\n5.0(1)\\nFamily-friendly · 2314 Arellano St\\nOpen ⋅ Closes 2\\u202fAM\", 'Closing Time': '5.0(1)'}, 'Obelisk Cafe + Restaurant': {'Rating': '4.8', 'Address': 'Obelisk Cafe + Restaurant\\n4.8(59)\\nRestaurant · \\ue934 · The Most Worshipful Grand Lodge Free and Accepted Masons of the Philippines, 1440 San Marcelino St\\nCloses soon ⋅ 11\\u202fPM ⋅ Opens 7\\u202fAM Tue', 'Closing Time': '4.8(59)'}, 'Wok Inn': {'Rating': '4.4', 'Address': 'Wok Inn\\n4.4(302)\\nRestaurant · 465 Remedios St\\nClosed ⋅ Opens 10\\u202fAM Tue', 'Closing Time': '4.4(302)'}, 'Romantic Baboy Taft Avenue': {'Rating': '4.4', 'Address': 'Romantic Baboy Taft Avenue\\n4.4(293)\\nKorean BBQ · 2213 Taft Ave\\nCloses soon ⋅ 11\\u202fPM ⋅ Opens 11\\u202fAM Tue', 'Closing Time': '4.4(293)'}}\n",
      "{}\n"
     ]
    }
   ],
   "source": [
    "\n",
    "# Initialize the browser\n",
    "browser = webdriver.Chrome()\n",
    "\n",
    "# Navigate to Google Maps\n",
    "browser.get('https://www.google.com/maps')\n",
    "\n",
    "# Wait for the page to load\n",
    "time.sleep(5)\n",
    "\n",
    "# Find the search bar and enter the user input\n",
    "search_bar = browser.find_element(By.XPATH, '//*[@id=\"searchboxinput\"]')\n",
    "search_bar.send_keys(user_input)\n",
    "\n",
    "# Wait for the suggestions to load and appear\n",
    "time.sleep(3)\n",
    "\n",
    "# Find and click the first suggestion\n",
    "first_suggestion = browser.find_element(By.CLASS_NAME, 'DgCNMb')\n",
    "first_suggestion.click()\n",
    "\n",
    "# Wait for the place to load and appear\n",
    "time.sleep(5)\n",
    "\n",
    "# Click Restaurant Option\n",
    "restaurants_option = browser.find_element(By.XPATH, '//button[@aria-label=\"Restaurants\"]')\n",
    "restaurants_option.click()\n",
    "\n",
    "# Wait for all restaurants to load and appear\n",
    "time.sleep(5)\n",
    "\n",
    "# Initialize a dictionary to store restaurant details\n",
    "restaurants_dict = {}\n",
    "\n",
    "# Scroll and gather restaurant details\n",
    "while True:\n",
    "    # Get all restaurant elements\n",
    "    restaurant_list = browser.find_elements(By.CLASS_NAME, 'Nv2PK')\n",
    "    for restaurant in restaurant_list:\n",
    "        try:\n",
    "            restaurant_name = restaurant.find_element(By.CLASS_NAME, 'qBF1Pd').text\n",
    "            restaurant_rating = restaurant.find_element(By.CLASS_NAME, 'MW4etd').text\n",
    "            restaurant_address = restaurant.find_element(By.CLASS_NAME, 'lI9IFe').text\n",
    "            restaurant_closing_time = restaurant.find_element(By.CLASS_NAME, 'W4Efsd').text\n",
    "\n",
    "            restaurants_dict[restaurant_name] = {'Rating': restaurant_rating, 'Address': restaurant_address, 'Closing Time': restaurant_closing_time}\n",
    "        except:\n",
    "            continue\n",
    "\n",
    "    # Scroll down to load more results\n",
    "    browser.execute_script(\"arguments[0].scrollIntoView();\", restaurant_list[-1])\n",
    "    time.sleep(3)\n",
    "\n",
    "    # Break the loop if no new results are loaded\n",
    "    new_restaurant_elements = browser.find_elements(By.CLASS_NAME, 'Nv2PK')\n",
    "    if len(new_restaurant_elements) == len(restaurant_list):\n",
    "        break\n",
    "\n",
    "# Go back to the previous page (location view)\n",
    "browser.back()\n",
    "browser.back()\n",
    "\n",
    "# Wait for the page to navigate back\n",
    "time.sleep(5)\n",
    "\n",
    "# Explicitly wait for the \"Things to do\" option to be clickable\n",
    "things_to_do_option = browser.find_element(By.XPATH, '//button[@aria-label=\"Things to do\"]')\n",
    "things_to_do_option.click()\n",
    "\n",
    "# Wait for all things to do to appear\n",
    "time.sleep(8)\n",
    "\n",
    "# Initialize a dictionary to store things to do details\n",
    "things_to_do_dict = {}\n",
    "\n",
    "# Scroll and gather things to do details\n",
    "while True:\n",
    "    # Get all things to do elements\n",
    "    things_to_do_list = browser.find_elements(By.CLASS_NAME, 'Nv2PK')\n",
    "\n",
    "    # Extract details from each activity element\n",
    "    for activity in things_to_do_list:\n",
    "        try:\n",
    "            activity_name = activity.find_element(By.CLASS_NAME, 'hfpxzc').text\n",
    "            activity_rating = activity.find_element(By.CLASS_NAME, 'MW4etd').text\n",
    "            activity_address = activity.find_element(By.CSS_SELECTOR, '.rllt__details.lI9IFe').text\n",
    "            activity_closing_time = activity.find_element(By.CLASS_NAME, 'W4Efsd').text\n",
    "\n",
    "            things_to_do_dict[activity_name] = {'Rating': activity_rating, 'Address': activity_address, 'Closing Time': activity_closing_time}\n",
    "        except:\n",
    "            continue\n",
    "\n",
    "    # Scroll down to load more results\n",
    "    browser.execute_script(\"arguments[0].scrollIntoView();\", things_to_do_list[-1])\n",
    "    time.sleep(3)\n",
    "\n",
    "    # Break the loop if no new results are loaded\n",
    "    new_things_to_do_elements = browser.find_elements(By.CLASS_NAME, 'Nv2PK')\n",
    "    if len(new_things_to_do_elements) == len(things_to_do_list):\n",
    "        break\n",
    "\n",
    "# Print the gathered restaurant details\n",
    "print(restaurants_dict)\n",
    "\n",
    "# Print the gathered things to do details\n",
    "print(things_to_do_dict)\n",
    "\n",
    "# Close the browser\n",
    "browser.quit()\n"
   ]
  },
  {
   "cell_type": "code",
   "execution_count": null,
   "id": "c8aae56f-2401-4913-8e32-135abc3d4a25",
   "metadata": {},
   "outputs": [],
   "source": []
  }
 ],
 "metadata": {
  "kernelspec": {
   "display_name": "Python 3 (ipykernel)",
   "language": "python",
   "name": "python3"
  },
  "language_info": {
   "codemirror_mode": {
    "name": "ipython",
    "version": 3
   },
   "file_extension": ".py",
   "mimetype": "text/x-python",
   "name": "python",
   "nbconvert_exporter": "python",
   "pygments_lexer": "ipython3",
   "version": "3.11.7"
  }
 },
 "nbformat": 4,
 "nbformat_minor": 5
}
